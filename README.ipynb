{
 "cells": [
  {
   "cell_type": "markdown",
   "id": "b1e85c85",
   "metadata": {},
   "source": [
    "## Description\n",
    "\n",
    "This document overviews the steps performed for generating an input JSON and running the single cell filtering workflow\n",
    "\n",
    "A synology NAS storing input data was mounted on the local machine at path `mnt_path`\n",
    "\n",
    "### Containerization\n",
    "\n",
    "The image for running the workflow can be built with `make build` in the head repo directory"
   ]
  },
  {
   "cell_type": "markdown",
   "id": "813cdce6",
   "metadata": {},
   "source": [
    "### Generating Input JSON"
   ]
  },
  {
   "cell_type": "code",
   "execution_count": 1,
   "id": "d2a80e27",
   "metadata": {},
   "outputs": [],
   "source": [
    "from importlib import reload\n",
    "import os\n",
    "import json\n",
    "from glob import glob\n",
    "\n",
    "mnt_path = '/data/projects/genentech-jp'\n",
    "data_dir = os.path.join(mnt_path, 'cellranger_output')\n",
    "\n",
    "h5_files = glob(os.path.join(data_dir, \"*\", \"*.h5\"))\n",
    "donor_ids = [i.split('/')[-2] for i in h5_files]\n",
    "donor_counts = list(zip(donor_ids, h5_files))"
   ]
  },
  {
   "cell_type": "code",
   "execution_count": 2,
   "id": "05b2c845",
   "metadata": {},
   "outputs": [],
   "source": [
    "assert(all([os.path.exists(i) for i in h5_files]))"
   ]
  },
  {
   "cell_type": "code",
   "execution_count": 5,
   "id": "25626bbe",
   "metadata": {},
   "outputs": [
    {
     "name": "stdout",
     "output_type": "stream",
     "text": [
      "{\n",
      "  \"donor_ids\": [\n",
      "    \"MantonBM6_HiSeq_1\",\n",
      "    \"MantonBM7_HiSeq_1\",\n",
      "    \"MantonBM4_HiSeq_1\",\n",
      "    \"MantonBM5_HiSeq_1\",\n",
      "    \"MantonBM1_HiSeq_1\",\n",
      "    \"MantonBM2_HiSeq_1\",\n",
      "    \"MantonBM3_HiSeq_1\",\n",
      "    \"MantonBM8_HiSeq_1\"\n",
      "  ],\n",
      "  \"donor_counts\": [\n",
      "    \"/data/projects/genentech-jp/cellranger_output/MantonBM6_HiSeq_1/raw_feature_bc_matrix.h5\",\n",
      "    \"/data/projects/genentech-jp/cellranger_output/MantonBM7_HiSeq_1/raw_feature_bc_matrix.h5\",\n",
      "    \"/data/projects/genentech-jp/cellranger_output/MantonBM4_HiSeq_1/raw_feature_bc_matrix.h5\",\n",
      "    \"/data/projects/genentech-jp/cellranger_output/MantonBM5_HiSeq_1/raw_feature_bc_matrix.h5\",\n",
      "    \"/data/projects/genentech-jp/cellranger_output/MantonBM1_HiSeq_1/raw_feature_bc_matrix.h5\",\n",
      "    \"/data/projects/genentech-jp/cellranger_output/MantonBM2_HiSeq_1/raw_feature_bc_matrix.h5\",\n",
      "    \"/data/projects/genentech-jp/cellranger_output/MantonBM3_HiSeq_1/raw_feature_bc_matrix.h5\",\n",
      "    \"/data/projects/genentech-jp/cellranger_output/MantonBM8_HiSeq_1/raw_feature_bc_matrix.h5\"\n",
      "  ]\n",
      "}\n"
     ]
    }
   ],
   "source": [
    "output_dir = os.path.join(mnt_path, 'results')\n",
    "input_json = {'donor_ids': donor_ids, 'donor_counts': h5_files}\n",
    "\n",
    "with open('/home/debian/genentech-jp/scrna_filter_input.json', 'w') as fh:\n",
    "    json.dump(input_json, fh, indent=2)\n",
    "    \n",
    "print(json.dumps(input_json, indent=2))"
   ]
  },
  {
   "cell_type": "markdown",
   "id": "d60ee194",
   "metadata": {},
   "source": [
    "### Running Workflow\n",
    "\n",
    "The workflow file `wdl/scrna_filter.wdl` was run using _miniwdl_ as the execution engine of choice. All output files and run logs were written to the path specified by `-d` parameter. \n",
    "\n",
    "```\n",
    "miniwdl run wdl/scrna_filter.wdl -i scrna_filter_input.json -d /data/projects/genentech-jp/results\n",
    "```\n",
    "\n",
    "This yields the output JSON acquired below."
   ]
  },
  {
   "cell_type": "code",
   "execution_count": 12,
   "id": "393ffdc7",
   "metadata": {},
   "outputs": [
    {
     "name": "stdout",
     "output_type": "stream",
     "text": [
      "{\n",
      "  \"scrna_filter_cells.scRNAFilterCells.count_matrix_h5ad\": [\n",
      "    \"/data/projects/genentech-jp/results/20230106_122241_scrna_filter_cells/out/scRNAFilterCells.count_matrix_h5ad/0/MantonBM6_HiSeq_1_counts.h5ad\",\n",
      "    \"/data/projects/genentech-jp/results/20230106_122241_scrna_filter_cells/out/scRNAFilterCells.count_matrix_h5ad/1/MantonBM7_HiSeq_1_counts.h5ad\",\n",
      "    \"/data/projects/genentech-jp/results/20230106_122241_scrna_filter_cells/out/scRNAFilterCells.count_matrix_h5ad/2/MantonBM4_HiSeq_1_counts.h5ad\",\n",
      "    \"/data/projects/genentech-jp/results/20230106_122241_scrna_filter_cells/out/scRNAFilterCells.count_matrix_h5ad/3/MantonBM5_HiSeq_1_counts.h5ad\",\n",
      "    \"/data/projects/genentech-jp/results/20230106_122241_scrna_filter_cells/out/scRNAFilterCells.count_matrix_h5ad/4/MantonBM1_HiSeq_1_counts.h5ad\",\n",
      "    \"/data/projects/genentech-jp/results/20230106_122241_scrna_filter_cells/out/scRNAFilterCells.count_matrix_h5ad/5/MantonBM2_HiSeq_1_counts.h5ad\",\n",
      "    \"/data/projects/genentech-jp/results/20230106_122241_scrna_filter_cells/out/scRNAFilterCells.count_matrix_h5ad/6/MantonBM3_HiSeq_1_counts.h5ad\",\n",
      "    \"/data/projects/genentech-jp/results/20230106_122241_scrna_filter_cells/out/scRNAFilterCells.count_matrix_h5ad/7/MantonBM8_HiSeq_1_counts.h5ad\"\n",
      "  ],\n",
      "  \"scrna_filter_cells.scRNAFilterCells.gene_rank_png\": [\n",
      "    \"/data/projects/genentech-jp/results/20230106_122241_scrna_filter_cells/out/scRNAFilterCells.gene_rank_png/0/MantonBM6_HiSeq_1_gene_ranks.png\",\n",
      "    \"/data/projects/genentech-jp/results/20230106_122241_scrna_filter_cells/out/scRNAFilterCells.gene_rank_png/1/MantonBM7_HiSeq_1_gene_ranks.png\",\n",
      "    \"/data/projects/genentech-jp/results/20230106_122241_scrna_filter_cells/out/scRNAFilterCells.gene_rank_png/2/MantonBM4_HiSeq_1_gene_ranks.png\",\n",
      "    \"/data/projects/genentech-jp/results/20230106_122241_scrna_filter_cells/out/scRNAFilterCells.gene_rank_png/3/MantonBM5_HiSeq_1_gene_ranks.png\",\n",
      "    \"/data/projects/genentech-jp/results/20230106_122241_scrna_filter_cells/out/scRNAFilterCells.gene_rank_png/4/MantonBM1_HiSeq_1_gene_ranks.png\",\n",
      "    \"/data/projects/genentech-jp/results/20230106_122241_scrna_filter_cells/out/scRNAFilterCells.gene_rank_png/5/MantonBM2_HiSeq_1_gene_ranks.png\",\n",
      "    \"/data/projects/genentech-jp/results/20230106_122241_scrna_filter_cells/out/scRNAFilterCells.gene_rank_png/6/MantonBM3_HiSeq_1_gene_ranks.png\",\n",
      "    \"/data/projects/genentech-jp/results/20230106_122241_scrna_filter_cells/out/scRNAFilterCells.gene_rank_png/7/MantonBM8_HiSeq_1_gene_ranks.png\"\n",
      "  ],\n",
      "  \"scrna_filter_cells.scRNAFilterCells.umap_png\": [\n",
      "    \"/data/projects/genentech-jp/results/20230106_122241_scrna_filter_cells/out/scRNAFilterCells.umap_png/0/MantonBM6_HiSeq_1_umap.png\",\n",
      "    \"/data/projects/genentech-jp/results/20230106_122241_scrna_filter_cells/out/scRNAFilterCells.umap_png/1/MantonBM7_HiSeq_1_umap.png\",\n",
      "    \"/data/projects/genentech-jp/results/20230106_122241_scrna_filter_cells/out/scRNAFilterCells.umap_png/2/MantonBM4_HiSeq_1_umap.png\",\n",
      "    \"/data/projects/genentech-jp/results/20230106_122241_scrna_filter_cells/out/scRNAFilterCells.umap_png/3/MantonBM5_HiSeq_1_umap.png\",\n",
      "    \"/data/projects/genentech-jp/results/20230106_122241_scrna_filter_cells/out/scRNAFilterCells.umap_png/4/MantonBM1_HiSeq_1_umap.png\",\n",
      "    \"/data/projects/genentech-jp/results/20230106_122241_scrna_filter_cells/out/scRNAFilterCells.umap_png/5/MantonBM2_HiSeq_1_umap.png\",\n",
      "    \"/data/projects/genentech-jp/results/20230106_122241_scrna_filter_cells/out/scRNAFilterCells.umap_png/6/MantonBM3_HiSeq_1_umap.png\",\n",
      "    \"/data/projects/genentech-jp/results/20230106_122241_scrna_filter_cells/out/scRNAFilterCells.umap_png/7/MantonBM8_HiSeq_1_umap.png\"\n",
      "  ]\n",
      "}\n"
     ]
    }
   ],
   "source": [
    "output_json = '/data/projects/genentech-jp/results/_LAST/outputs.json'\n",
    "with open(output_json, 'r') as fh:\n",
    "    outputs = json.load(fh)\n",
    "    \n",
    "print(json.dumps(outputs, indent=2))"
   ]
  },
  {
   "cell_type": "code",
   "execution_count": 20,
   "id": "40baebab",
   "metadata": {},
   "outputs": [],
   "source": [
    "import shutil\n",
    "output_keys = ['scrna_filter_cells.scRNAFilterCells.gene_rank_png', 'scrna_filter_cells.scRNAFilterCells.umap_png']\n",
    "os.makedirs('results', exist_ok=True)\n",
    "for k,v in outputs.items():\n",
    "    if k in output_keys:\n",
    "        for outfile in outputs[k]:\n",
    "            shutil.copy(outfile, 'results')"
   ]
  },
  {
   "cell_type": "markdown",
   "id": "db7d5ca4",
   "metadata": {},
   "source": [
    "### Submission\n",
    "\n",
    "Submitted files are relative to head of repo directory\n",
    "\n",
    "  - Source code: `Dockerfile` and `wdl/scrna_filter.wdl`\n",
    "  - script: `src\n",
    "  - UMAP and gene rank plots: `results` directory"
   ]
  }
 ],
 "metadata": {
  "kernelspec": {
   "display_name": "Python 3 (ipykernel)",
   "language": "python",
   "name": "python3"
  },
  "language_info": {
   "codemirror_mode": {
    "name": "ipython",
    "version": 3
   },
   "file_extension": ".py",
   "mimetype": "text/x-python",
   "name": "python",
   "nbconvert_exporter": "python",
   "pygments_lexer": "ipython3",
   "version": "3.8.10"
  }
 },
 "nbformat": 4,
 "nbformat_minor": 5
}
