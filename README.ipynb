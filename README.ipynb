{
 "cells": [
  {
   "cell_type": "markdown",
   "id": "b1e85c85",
   "metadata": {},
   "source": [
    "## Description\n",
    "\n",
    "This document overviews the steps performed for generating an input JSON and running the single cell filtering workflow\n",
    "\n",
    "A synology NAS storing input data was mounted on the local machine at path `mnt_path`\n",
    "\n",
    "### Containerization\n",
    "\n",
    "The image for running the workflow can be built with `make build` in repo directory"
   ]
  },
  {
   "cell_type": "markdown",
   "id": "813cdce6",
   "metadata": {},
   "source": [
    "### Generating Input JSON"
   ]
  },
  {
   "cell_type": "code",
   "execution_count": 1,
   "id": "d2a80e27",
   "metadata": {},
   "outputs": [],
   "source": [
    "from importlib import reload\n",
    "import os\n",
    "import json\n",
    "from glob import glob\n",
    "\n",
    "mnt_path = '/data/projects/genentech-jp'\n",
    "data_dir = os.path.join(mnt_path, 'cellranger_output')\n",
    "\n",
    "h5_files = glob(os.path.join(data_dir, \"*\", \"*.h5\"))\n",
    "donor_ids = [i.split('/')[-2] for i in h5_files]\n",
    "donor_counts = list(zip(donor_ids, h5_files))"
   ]
  },
  {
   "cell_type": "code",
   "execution_count": 2,
   "id": "05b2c845",
   "metadata": {},
   "outputs": [],
   "source": [
    "assert(all([os.path.exists(i) for i in h5_files]))"
   ]
  },
  {
   "cell_type": "code",
   "execution_count": 3,
   "id": "25626bbe",
   "metadata": {},
   "outputs": [
    {
     "name": "stdout",
     "output_type": "stream",
     "text": [
      "{\n",
      "  \"donor_ids\": [\n",
      "    \"MantonBM6_HiSeq_1\",\n",
      "    \"MantonBM7_HiSeq_1\",\n",
      "    \"MantonBM4_HiSeq_1\",\n",
      "    \"MantonBM5_HiSeq_1\",\n",
      "    \"MantonBM1_HiSeq_1\",\n",
      "    \"MantonBM2_HiSeq_1\",\n",
      "    \"MantonBM3_HiSeq_1\",\n",
      "    \"MantonBM8_HiSeq_1\"\n",
      "  ],\n",
      "  \"donor_counts\": [\n",
      "    \"/data/projects/genentech-jp/cellranger_output/MantonBM6_HiSeq_1/raw_feature_bc_matrix.h5\",\n",
      "    \"/data/projects/genentech-jp/cellranger_output/MantonBM7_HiSeq_1/raw_feature_bc_matrix.h5\",\n",
      "    \"/data/projects/genentech-jp/cellranger_output/MantonBM4_HiSeq_1/raw_feature_bc_matrix.h5\",\n",
      "    \"/data/projects/genentech-jp/cellranger_output/MantonBM5_HiSeq_1/raw_feature_bc_matrix.h5\",\n",
      "    \"/data/projects/genentech-jp/cellranger_output/MantonBM1_HiSeq_1/raw_feature_bc_matrix.h5\",\n",
      "    \"/data/projects/genentech-jp/cellranger_output/MantonBM2_HiSeq_1/raw_feature_bc_matrix.h5\",\n",
      "    \"/data/projects/genentech-jp/cellranger_output/MantonBM3_HiSeq_1/raw_feature_bc_matrix.h5\",\n",
      "    \"/data/projects/genentech-jp/cellranger_output/MantonBM8_HiSeq_1/raw_feature_bc_matrix.h5\"\n",
      "  ],\n",
      "  \"output_dir\": \"/data/projects/genentech-jp/results\"\n",
      "}\n"
     ]
    }
   ],
   "source": [
    "output_dir = os.path.join(mnt_path, 'results')\n",
    "input_json = {'donor_ids': donor_ids, 'donor_counts': h5_files, 'output_dir': output_dir}\n",
    "\n",
    "with open('/home/debian/genentech-jp/scrna_filter_input.json', 'w') as fh:\n",
    "    json.dump(input_json, fh, indent=2)\n",
    "    \n",
    "print(json.dumps(input_json, indent=2))"
   ]
  },
  {
   "cell_type": "markdown",
   "id": "d60ee194",
   "metadata": {},
   "source": [
    "### Running Workflow\n",
    "\n",
    "The workflow file `wdl/scrna_filter.wdl` was run using _miniwdl_ as the execution engine of choice.\n",
    "\n",
    "```\n",
    "cd /home/debian/genentech-jp\n",
    "miniwdl run wdl/scrna_filter.wdl -i scrna_filter_input.json -d /data/projects/genentech-jp/runs\n",
    "```"
   ]
  }
 ],
 "metadata": {
  "kernelspec": {
   "display_name": "Python 3 (ipykernel)",
   "language": "python",
   "name": "python3"
  },
  "language_info": {
   "codemirror_mode": {
    "name": "ipython",
    "version": 3
   },
   "file_extension": ".py",
   "mimetype": "text/x-python",
   "name": "python",
   "nbconvert_exporter": "python",
   "pygments_lexer": "ipython3",
   "version": "3.8.10"
  }
 },
 "nbformat": 4,
 "nbformat_minor": 5
}
